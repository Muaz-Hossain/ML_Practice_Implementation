{
 "cells": [
  {
   "cell_type": "code",
   "execution_count": 37,
   "id": "3451f285-c40b-4cd8-83c6-d0f5755318b4",
   "metadata": {},
   "outputs": [],
   "source": [
    "\n",
    "#from sklearn.datasets import load_iris\n",
    "#from sklearn.cluster import KMeans\n",
    "#import matplotlib.pyplot as plt\n",
    "#import pandas as pd"
   ]
  },
  {
   "cell_type": "code",
   "execution_count": 38,
   "id": "7a229329-b03d-4df0-abb6-ce2f237d9cfd",
   "metadata": {},
   "outputs": [
    {
     "data": {
      "text/plain": [
       "(150, 4)"
      ]
     },
     "execution_count": 38,
     "metadata": {},
     "output_type": "execute_result"
    }
   ],
   "source": [
    "iris = load_iris()\n",
    "df = pd.DataFrame(iris.data, columns=iris.feature_names)\n",
    "df.head()\n",
    "df.shape"
   ]
  },
  {
   "cell_type": "code",
   "execution_count": 39,
   "id": "384602b4-399c-49d7-9a80-64ade74aaf66",
   "metadata": {},
   "outputs": [
    {
     "data": {
      "image/png": "[encoded data removed]",
      "text/plain": [
       "<Figure size 640x480 with 1 Axes>"
      ]
     },
     "metadata": {},
     "output_type": "display_data"
    }
   ],
   "source": [
    "wcss = []\n",
    "\n",
    "for k in range(1, 11):\n",
    "    kmeans = KMeans(n_clusters=k, random_state=42)\n",
    "    kmeans.fit(df)\n",
    "    wcss.append(kmeans.inertia_)\n",
    "\n",
    "plt.plot(range(1, 11), wcss,marker='o')\n",
    "plt.title('elbow method')\n",
    "plt.xlabel('number of culster(k)')\n",
    "plt.ylabel('wcss')\n",
    "plt.grid()\n",
    "plt.show()"
   ]
  },
  {
   "cell_type": "code",
   "execution_count": null,
   "id": "8855195b-56b1-4d2d-a620-e5d050af01fc",
   "metadata": {},
   "outputs": [],
   "source": []
  },
  {
   "cell_type": "code",
   "execution_count": 40,
   "id": "70c23aee-7c8b-4e39-8231-aac3381004fa",
   "metadata": {},
   "outputs": [],
   "source": [
    "import numpy as np"
   ]
  },
  {
   "cell_type": "code",
   "execution_count": 41,
   "id": "eddc7090-a15e-483a-916b-5d6672f47ede",
   "metadata": {},
   "outputs": [],
   "source": [
    "point = np.array([[2,3], [5,7], [1,2], [4,4]])\n",
    "centoid = np.array([[5,7], [1,2]])"
   ]
  },
  {
   "cell_type": "code",
   "execution_count": 42,
   "id": "61898827-ff17-4b1a-952c-b73537afdca8",
   "metadata": {},
   "outputs": [
    {
     "name": "stdout",
     "output_type": "stream",
     "text": [
      "[[5.         1.41421356]\n",
      " [0.         6.40312424]\n",
      " [6.40312424 0.        ]\n",
      " [3.16227766 3.60555128]]\n"
     ]
    }
   ],
   "source": [
    "dis = np.linalg.norm(point[:, None] - centoid, axis =2)\n",
    "print(dis)"
   ]
  },
  {
   "cell_type": "code",
   "execution_count": 43,
   "id": "ee94657f-3505-4dff-b050-28d3a7e32637",
   "metadata": {},
   "outputs": [
    {
     "name": "stdout",
     "output_type": "stream",
     "text": [
      "[1 0 1 0]\n"
     ]
    }
   ],
   "source": [
    "label = np.argmin(dis,axis =1)\n",
    "print(label)"
   ]
  },
  {
   "cell_type": "code",
   "execution_count": 44,
   "id": "0e44f6f3-c1cb-4568-be02-0e6c9b8208e5",
   "metadata": {},
   "outputs": [],
   "source": [
    "new_cen = np.array([point[label ==0].mean(axis=0),point[label==1].mean(axis=0)])"
   ]
  },
  {
   "cell_type": "code",
   "execution_count": 45,
   "id": "495574dd-301d-4fa7-bddb-36c4756ad42b",
   "metadata": {},
   "outputs": [
    {
     "name": "stdout",
     "output_type": "stream",
     "text": [
      "[[4.5 5.5]\n",
      " [1.5 2.5]]\n"
     ]
    }
   ],
   "source": [
    "print(new_cen)"
   ]
  },
  {
   "cell_type": "code",
   "execution_count": 50,
   "id": "091714bd-f702-4a63-9b67-1f58cbe90df7",
   "metadata": {},
   "outputs": [
    {
     "ename": "SyntaxError",
     "evalue": "'break' outside loop (521005382.py, line 2)",
     "output_type": "error",
     "traceback": [
      "  \u001b[36mCell\u001b[39m\u001b[36m \u001b[39m\u001b[32mIn[50]\u001b[39m\u001b[32m, line 2\u001b[39m\n\u001b[31m    \u001b[39m\u001b[31mbreak\u001b[39m\n    ^\n\u001b[31mSyntaxError\u001b[39m\u001b[31m:\u001b[39m 'break' outside loop\n"
     ]
    }
   ],
   "source": [
    "if np.allclose(centoid, new_cen):\n",
    "    break"
   ]
  },
  {
   "cell_type": "code",
   "execution_count": null,
   "id": "032344e2-dd92-4304-a76c-19cb9952d140",
   "metadata": {},
   "outputs": [],
   "source": []
  },
  {
   "cell_type": "code",
   "execution_count": 47,
   "id": "070a398b-5827-4ee2-8214-6015b76e80bf",
   "metadata": {},
   "outputs": [],
   "source": [
    "dis2= np.linalg.norm(centoid)\n"
   ]
  },
  {
   "cell_type": "code",
   "execution_count": 48,
   "id": "32994c94-13ce-407e-8613-9f1fa745a046",
   "metadata": {},
   "outputs": [
    {
     "name": "stdout",
     "output_type": "stream",
     "text": [
      "8.888194417315589\n"
     ]
    }
   ],
   "source": [
    "print(dis2)"
   ]
  },
  {
   "cell_type": "code",
   "execution_count": 49,
   "id": "3a1546a0-d4e6-4f67-b13f-aebc5850089d",
   "metadata": {},
   "outputs": [
    {
     "name": "stdout",
     "output_type": "stream",
     "text": [
      "[[-3.88819442 -7.47398085]\n",
      " [-8.88819442 -2.48507018]\n",
      " [-2.48507018 -8.88819442]\n",
      " [-5.72591676 -5.28264314]]\n"
     ]
    }
   ],
   "source": [
    "a = dis - dis2\n",
    "print(a)"
   ]
  },
  {
   "cell_type": "code",
   "execution_count": 55,
   "id": "7c4adfdc-f1f8-4eda-beda-77b6070870e4",
   "metadata": {},
   "outputs": [],
   "source": [
    "def kmeans(X, k, max_iters=100):\n",
    "    cen = X [np.random.choice(len(X), k, replace=False)]\n",
    "    for i in range(max_iters):\n",
    "        dis = np.linalg.norm(X [:, None] - cen, axis=2)\n",
    "\n",
    "        label = np.argmin(dis, axis=1)\n",
    "\n",
    "        new_cen = []\n",
    "        for j in range(k):\n",
    "            if np.sum(label == j) ==0:\n",
    "                new_cen.append(X[np.random.choice(len(X))])\n",
    "            else:\n",
    "                new_cen.append(X[label==j].mean(axis=0))\n",
    "\n",
    "            new_cen = np.array(new_cen)\n",
    "            if np.allclose(cen, new_cen):\n",
    "                break\n",
    "            cen = new_cen\n",
    "    return label, cen\n",
    "            \n",
    "                               \n",
    "        \n",
    "    "
   ]
  },
  {
   "cell_type": "code",
   "execution_count": null,
   "id": "26687f9c-85ee-490d-affe-ccfbb25db95f",
   "metadata": {},
   "outputs": [],
   "source": []
  }
 ],
 "metadata": {
  "kernelspec": {
   "display_name": "Python 3 (ipykernel)",
   "language": "python",
   "name": "python3"
  },
  "language_info": {
   "codemirror_mode": {
    "name": "ipython",
    "version": 3
   },
   "file_extension": ".py",
   "mimetype": "text/x-python",
   "name": "python",
   "nbconvert_exporter": "python",
   "pygments_lexer": "ipython3",
   "version": "3.13.2"
  }
 },
 "nbformat": 4,
 "nbformat_minor": 5
}
